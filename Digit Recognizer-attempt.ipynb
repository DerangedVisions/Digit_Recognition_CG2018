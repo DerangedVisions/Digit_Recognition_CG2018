{
 "cells": [
  {
   "cell_type": "code",
   "execution_count": 1,
   "metadata": {},
   "outputs": [
    {
     "name": "stderr",
     "output_type": "stream",
     "text": [
      "D:\\Users\\alyas\\Anaconda3\\lib\\site-packages\\sklearn\\cross_validation.py:41: DeprecationWarning: This module was deprecated in version 0.18 in favor of the model_selection module into which all the refactored classes and functions are moved. Also note that the interface of the new CV iterators are different from that of this module. This module will be removed in 0.20.\n",
      "  \"This module will be removed in 0.20.\", DeprecationWarning)\n",
      "D:\\Users\\alyas\\Anaconda3\\lib\\site-packages\\sklearn\\grid_search.py:42: DeprecationWarning: This module was deprecated in version 0.18 in favor of the model_selection module into which all the refactored classes and functions are moved. This module will be removed in 0.20.\n",
      "  DeprecationWarning)\n"
     ]
    }
   ],
   "source": [
    "import os\n",
    "import pandas as pd\n",
    "from sklearn.cross_validation import train_test_split\n",
    "import numpy as np\n",
    "import sklearn.metrics as metrics\n",
    "from sklearn.neighbors import KNeighborsClassifier  as KNN\n",
    "import scipy.io\n",
    "from sklearn.grid_search import GridSearchCV\n",
    "import time"
   ]
  },
  {
   "cell_type": "code",
   "execution_count": 2,
   "metadata": {},
   "outputs": [],
   "source": [
    "df= pd.read_csv(\"train.csv\")"
   ]
  },
  {
   "cell_type": "code",
   "execution_count": 3,
   "metadata": {},
   "outputs": [
    {
     "data": {
      "text/plain": [
       "1    4684\n",
       "7    4401\n",
       "3    4351\n",
       "9    4188\n",
       "2    4177\n",
       "6    4137\n",
       "0    4132\n",
       "4    4072\n",
       "8    4063\n",
       "5    3795\n",
       "Name: label, dtype: int64"
      ]
     },
     "execution_count": 3,
     "metadata": {},
     "output_type": "execute_result"
    }
   ],
   "source": [
    "df.label.value_counts()"
   ]
  },
  {
   "cell_type": "code",
   "execution_count": 4,
   "metadata": {},
   "outputs": [
    {
     "data": {
      "text/plain": [
       "<matplotlib.axes._subplots.AxesSubplot at 0x211685f6470>"
      ]
     },
     "execution_count": 4,
     "metadata": {},
     "output_type": "execute_result"
    },
    {
     "data": {
      "image/png": "[encoded data removed]",
      "text/plain": [
       "<Figure size 432x288 with 1 Axes>"
      ]
     },
     "metadata": {},
     "output_type": "display_data"
    }
   ],
   "source": [
    "%matplotlib inline\n",
    "df.label.hist(bins=10)"
   ]
  },
  {
   "cell_type": "code",
   "execution_count": 5,
   "metadata": {
    "scrolled": true
   },
   "outputs": [
    {
     "data": {
      "text/plain": [
       "<matplotlib.axes._subplots.AxesSubplot at 0x211689710f0>"
      ]
     },
     "execution_count": 5,
     "metadata": {},
     "output_type": "execute_result"
    },
    {
     "data": {
      "image/png": "[encoded data removed]",
      "text/plain": [
       "<Figure size 432x288 with 1 Axes>"
      ]
     },
     "metadata": {},
     "output_type": "display_data"
    }
   ],
   "source": [
    "df.apply (np.std,axis= 0).hist(bins=100)"
   ]
  },
  {
   "cell_type": "code",
   "execution_count": 6,
   "metadata": {},
   "outputs": [],
   "source": [
    "#the smaller one shows where most of the \"real\" data  is located"
   ]
  },
  {
   "cell_type": "code",
   "execution_count": 7,
   "metadata": {},
   "outputs": [],
   "source": [
    "model =KNN (n_neighbors=5,p=2,metric='minkowski', n_jobs=-1)\n",
    "#5 is the default for how many points it's going to find that are closest to that point this fits the model then we need to define it"
   ]
  },
  {
   "cell_type": "code",
   "execution_count": 8,
   "metadata": {},
   "outputs": [],
   "source": [
    "[dftr,dftst] =train_test_split(df,test_size=0.1, random_state=42)"
   ]
  },
  {
   "cell_type": "code",
   "execution_count": 9,
   "metadata": {},
   "outputs": [
    {
     "data": {
      "text/plain": [
       "KNeighborsClassifier(algorithm='auto', leaf_size=30, metric='minkowski',\n",
       "           metric_params=None, n_jobs=-1, n_neighbors=5, p=2,\n",
       "           weights='uniform')"
      ]
     },
     "execution_count": 9,
     "metadata": {},
     "output_type": "execute_result"
    }
   ],
   "source": [
    "feature_list = list(set(df.columns.values) - set(['label']))\n",
    "Xtr = dftr[feature_list]\n",
    "Ytr = dftr['label']\n",
    "\n",
    "model.fit(Xtr,Ytr)"
   ]
  },
  {
   "cell_type": "code",
   "execution_count": 10,
   "metadata": {},
   "outputs": [
    {
     "data": {
      "text/plain": [
       "0.9654761904761905"
      ]
     },
     "execution_count": 10,
     "metadata": {},
     "output_type": "execute_result"
    }
   ],
   "source": [
    "#still need to do cross validation, hyper parameter tuning look in sklearn for model selection\n",
    "#use gridsearch cv to perform hyper parameter\n",
    "\n",
    "Xtst = dftst[feature_list]\n",
    "Ytst = dftst['label']\n",
    "Ypred = model.predict(Xtst)\n",
    "## Using 5 neighbors\n",
    "metrics.accuracy_score(Ytst,Ypred)\n",
    "\n",
    "#using KNN 0.9654761904761905\n",
    "\n",
    "\n",
    "#by default when you are dropping columns you need to define that you want to drop Columns....by default it drops rows..\n",
    "#look into hyper parameter tuning in alteryx :)\n",
    "#look into gridsearch cv...try to use the framework it helps to analyze the predictions.\n",
    "#change the amount of CV (cross validations it does to see the difference)\n",
    "#finish KNN for this week\n",
    "#try implementing neural net-you'll see it's the same- unless you use convelusional neural net- \n",
    "#much more complex-CNN are most comonly used for images. try a simple neural net first then try to change it to CNN and improve the result.\n",
    "#SVN should get you the same performance you can try it though\n"
   ]
  },
  {
   "cell_type": "code",
   "execution_count": 11,
   "metadata": {},
   "outputs": [
    {
     "name": "stdout",
     "output_type": "stream",
     "text": [
      "Fitting 2 folds for each of 6 candidates, totalling 12 fits\n",
      "[CV] leaf_size=5, n_neighbors=1 ......................................\n",
      "[CV] ............. leaf_size=5, n_neighbors=1, score=0.959953 - 2.1min\n",
      "[CV] leaf_size=5, n_neighbors=1 ......................................\n"
     ]
    },
    {
     "name": "stderr",
     "output_type": "stream",
     "text": [
      "[Parallel(n_jobs=1)]: Done   1 out of   1 | elapsed:  2.1min remaining:    0.0s\n"
     ]
    },
    {
     "name": "stdout",
     "output_type": "stream",
     "text": [
      "[CV] ............. leaf_size=5, n_neighbors=1, score=0.960893 - 2.0min\n",
      "[CV] leaf_size=5, n_neighbors=6 ......................................\n"
     ]
    },
    {
     "name": "stderr",
     "output_type": "stream",
     "text": [
      "[Parallel(n_jobs=1)]: Done   2 out of   2 | elapsed:  4.1min remaining:    0.0s\n"
     ]
    },
    {
     "name": "stdout",
     "output_type": "stream",
     "text": [
      "[CV] ............. leaf_size=5, n_neighbors=6, score=0.957203 - 2.2min\n",
      "[CV] leaf_size=5, n_neighbors=6 ......................................\n"
     ]
    },
    {
     "name": "stderr",
     "output_type": "stream",
     "text": [
      "[Parallel(n_jobs=1)]: Done   3 out of   3 | elapsed:  6.3min remaining:    0.0s\n"
     ]
    },
    {
     "name": "stdout",
     "output_type": "stream",
     "text": [
      "[CV] ............. leaf_size=5, n_neighbors=6, score=0.958671 - 2.3min\n",
      "[CV] leaf_size=5, n_neighbors=11 .....................................\n",
      "[CV] ............ leaf_size=5, n_neighbors=11, score=0.952547 - 2.4min\n",
      "[CV] leaf_size=5, n_neighbors=11 .....................................\n",
      "[CV] ............ leaf_size=5, n_neighbors=11, score=0.954490 - 2.6min\n",
      "[CV] leaf_size=10, n_neighbors=1 .....................................\n",
      "[CV] ............ leaf_size=10, n_neighbors=1, score=0.959953 - 1.8min\n",
      "[CV] leaf_size=10, n_neighbors=1 .....................................\n",
      "[CV] ............ leaf_size=10, n_neighbors=1, score=0.960893 - 1.7min\n",
      "[CV] leaf_size=10, n_neighbors=6 .....................................\n",
      "[CV] ............ leaf_size=10, n_neighbors=6, score=0.957203 - 1.8min\n",
      "[CV] leaf_size=10, n_neighbors=6 .....................................\n",
      "[CV] ............ leaf_size=10, n_neighbors=6, score=0.958671 - 1.8min\n",
      "[CV] leaf_size=10, n_neighbors=11 ....................................\n",
      "[CV] ........... leaf_size=10, n_neighbors=11, score=0.952547 - 1.8min\n",
      "[CV] leaf_size=10, n_neighbors=11 ....................................\n",
      "[CV] ........... leaf_size=10, n_neighbors=11, score=0.954490 - 1.8min\n"
     ]
    },
    {
     "name": "stderr",
     "output_type": "stream",
     "text": [
      "[Parallel(n_jobs=1)]: Done  12 out of  12 | elapsed: 24.6min finished\n"
     ]
    },
    {
     "data": {
      "text/plain": [
       "GridSearchCV(cv=2, error_score='raise',\n",
       "       estimator=KNeighborsClassifier(algorithm='auto', leaf_size=array([ 5, 10]),\n",
       "           metric='minkowski', metric_params=None, n_jobs=-1,\n",
       "           n_neighbors=array([ 1,  6, 11]), p=2, weights='uniform'),\n",
       "       fit_params={}, iid=True, n_jobs=1,\n",
       "       param_grid={'n_neighbors': array([ 1,  6, 11]), 'leaf_size': array([ 5, 10])},\n",
       "       pre_dispatch='2*n_jobs', refit=True, scoring=None, verbose=4)"
      ]
     },
     "execution_count": 11,
     "metadata": {},
     "output_type": "execute_result"
    }
   ],
   "source": [
    "params = {\"n_neighbors\": np.arange(1, 12, 5),\"leaf_size\":np.arange(5,11,5)}\n",
    "def fcn(params):\n",
    "    model=KNN(n_neighbors=params.get(\"n_neighbors\"),leaf_size=params.get(\"leaf_size\"),n_jobs=-1)\n",
    "    return model\n",
    "grid = GridSearchCV(estimator=fcn(params), param_grid=params,verbose=4,cv=2)\n",
    "#start = time.time()\n",
    "grid.fit(Xtr, Ytr)"
   ]
  },
  {
   "cell_type": "code",
   "execution_count": 13,
   "metadata": {},
   "outputs": [
    {
     "ename": "NameError",
     "evalue": "name 'result' is not defined",
     "output_type": "error",
     "traceback": [
      "\u001b[1;31m---------------------------------------------------------------------------\u001b[0m",
      "\u001b[1;31mNameError\u001b[0m                                 Traceback (most recent call last)",
      "\u001b[1;32m<ipython-input-13-cbe6ad0aa23d>\u001b[0m in \u001b[0;36m<module>\u001b[1;34m()\u001b[0m\n\u001b[1;32m----> 1\u001b[1;33m \u001b[0mdf\u001b[0m\u001b[1;33m=\u001b[0m\u001b[0mpd\u001b[0m\u001b[1;33m.\u001b[0m\u001b[0mDataFrame\u001b[0m\u001b[1;33m(\u001b[0m\u001b[0mresult\u001b[0m\u001b[1;33m)\u001b[0m\u001b[1;33m\u001b[0m\u001b[0m\n\u001b[0m\u001b[0;32m      2\u001b[0m \u001b[0mdf\u001b[0m\u001b[1;33m.\u001b[0m\u001b[0mindex\u001b[0m\u001b[1;33m.\u001b[0m\u001b[0mname\u001b[0m\u001b[1;33m=\u001b[0m\u001b[1;34m'ImageId'\u001b[0m\u001b[1;33m\u001b[0m\u001b[0m\n\u001b[0;32m      3\u001b[0m \u001b[0mdf\u001b[0m\u001b[1;33m.\u001b[0m\u001b[0mindex\u001b[0m\u001b[1;33m+=\u001b[0m\u001b[1;36m1\u001b[0m\u001b[1;33m\u001b[0m\u001b[0m\n\u001b[0;32m      4\u001b[0m \u001b[0mdf\u001b[0m\u001b[1;33m.\u001b[0m\u001b[0mcolumns\u001b[0m\u001b[1;33m=\u001b[0m\u001b[1;33m[\u001b[0m\u001b[1;34m'Label'\u001b[0m\u001b[1;33m]\u001b[0m\u001b[1;33m\u001b[0m\u001b[0m\n\u001b[0;32m      5\u001b[0m \u001b[0mdf\u001b[0m\u001b[1;33m.\u001b[0m\u001b[0mto_csv\u001b[0m\u001b[1;33m(\u001b[0m\u001b[1;34m'results'\u001b[0m\u001b[1;33m,\u001b[0m\u001b[0mheader\u001b[0m\u001b[1;33m=\u001b[0m\u001b[1;32mTrue\u001b[0m\u001b[1;33m)\u001b[0m\u001b[1;33m\u001b[0m\u001b[0m\n",
      "\u001b[1;31mNameError\u001b[0m: name 'result' is not defined"
     ]
    }
   ],
   "source": [
    "df=pd.DataFrame(result)\n",
    "df.index.name='ImageId'\n",
    "df.index+=1\n",
    "df.columns=['Label']\n",
    "df.to_csv('results.csv',header=True)"
   ]
  },
  {
   "cell_type": "code",
   "execution_count": null,
   "metadata": {},
   "outputs": [],
   "source": [
    "feature_list = list(set(train.columns.values) - set(['label']))\n",
    "Xtr = dftr[feature_list]\n",
    "Ytr = dftr['label']\n",
    "\n",
    "model.fit(Xtr,Ytr)"
   ]
  },
  {
   "cell_type": "code",
   "execution_count": null,
   "metadata": {},
   "outputs": [],
   "source": [
    "params = {\"n_neighbors\": np.arange(1, 30, 5),\"metric\": [\"euclidean\", \"cityblock\"]}"
   ]
  },
  {
   "cell_type": "code",
   "execution_count": null,
   "metadata": {},
   "outputs": [],
   "source": [
    "print(params)\n",
    "params.keys()"
   ]
  },
  {
   "cell_type": "code",
   "execution_count": null,
   "metadata": {},
   "outputs": [],
   "source": [
    "Xtst = dftst[feature_list]\n",
    "Ytst = dftst['label']\n",
    "Ypred = model.predict(Xtst)"
   ]
  },
  {
   "cell_type": "code",
   "execution_count": null,
   "metadata": {},
   "outputs": [],
   "source": [
    "df=pd.DataFrame(result)\n",
    "df.index.name='ImageId'\n",
    "df.index+=1\n",
    "df.columns=['Label']\n",
    "df.to_csv('results.csv',header=True)"
   ]
  },
  {
   "cell_type": "code",
   "execution_count": null,
   "metadata": {},
   "outputs": [],
   "source": []
  }
 ],
 "metadata": {
  "kernelspec": {
   "display_name": "Python 3",
   "language": "python",
   "name": "python3"
  },
  "language_info": {
   "codemirror_mode": {
    "name": "ipython",
    "version": 3
   },
   "file_extension": ".py",
   "mimetype": "text/x-python",
   "name": "python",
   "nbconvert_exporter": "python",
   "pygments_lexer": "ipython3",
   "version": "3.6.5"
  }
 },
 "nbformat": 4,
 "nbformat_minor": 2
}
